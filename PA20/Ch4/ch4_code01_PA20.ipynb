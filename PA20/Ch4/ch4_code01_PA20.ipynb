{
  "nbformat": 4,
  "nbformat_minor": 0,
  "metadata": {
    "colab": {
      "name": "ch4-code01-PA20.ipynb",
      "provenance": [],
      "collapsed_sections": []
    },
    "kernelspec": {
      "display_name": "Python 3",
      "language": "python",
      "name": "python3"
    },
    "language_info": {
      "codemirror_mode": {
        "name": "ipython",
        "version": 3
      },
      "file_extension": ".py",
      "mimetype": "text/x-python",
      "name": "python",
      "nbconvert_exporter": "python",
      "pygments_lexer": "ipython3",
      "version": "3.7.5"
    }
  },
  "cells": [
    {
      "cell_type": "markdown",
      "metadata": {
        "id": "H4jNE-BMAK3f"
      },
      "source": [
        "ch4-code01-PA20.ipynb\n",
        "## PA20  (change to your id)\n",
        "- 파이썬 함수\n",
        "    - 입력값을 가지고 어떤 일을 수행한 다음에 그 결과물을 출력\n",
        "        - 반복되는 부분을 함수로 전환.\n",
        "        - 코딩을 모듈화\n",
        "- 매개변수와 인수\n",
        "- 입력값과 결괏값\n",
        "    - return\n",
        "    - 여러 개의 입력을 처리하는 함수(*args)\n",
        "    - 키워드 파라미터 (kwargs)\n",
        "    - 매개변수에 초깃값 미리 설정\n",
        "- lambda 함수 정의"
      ]
    },
    {
      "cell_type": "code",
      "metadata": {
        "id": "hXPcvn1CtW6z"
      },
      "source": [
        "# ch4_01_function.py\n"
      ],
      "execution_count": 1,
      "outputs": []
    },
    {
      "cell_type": "markdown",
      "metadata": {
        "id": "0nQDND33-abZ"
      },
      "source": [
        "## 함수란 무엇인가?"
      ]
    },
    {
      "cell_type": "markdown",
      "metadata": {
        "id": "7oHC-z3k-hcF"
      },
      "source": [
        "### - 입력값을 가지고 어떤 일을 수행한 다음에 \n",
        "### - 그 결과물을 내어놓는 것"
      ]
    },
    {
      "cell_type": "markdown",
      "metadata": {
        "id": "MYqD8JNb-wSK"
      },
      "source": [
        "## 함수를 사용하는 이유는 무엇일까?"
      ]
    },
    {
      "cell_type": "markdown",
      "metadata": {
        "id": "HwydKuL1-046"
      },
      "source": [
        "### - 반복되는 부분을 함수로 전환.\n",
        "### - 코딩을 모듈화"
      ]
    },
    {
      "cell_type": "markdown",
      "metadata": {
        "id": "W8eIfJ1U-7EG"
      },
      "source": [
        "## 파이썬 함수의 구조"
      ]
    },
    {
      "cell_type": "markdown",
      "metadata": {
        "id": "DLZ8vflj_AQi"
      },
      "source": [
        "### def 함수명(매개변수):\n",
        "###    <수행할 문장1>\n",
        "###    <수행할 문장2>"
      ]
    },
    {
      "cell_type": "markdown",
      "metadata": {
        "id": "LZaELEsz_HpG"
      },
      "source": [
        "# add() 함수를 정의"
      ]
    },
    {
      "cell_type": "code",
      "metadata": {
        "id": "klR1x1Jr_KS8"
      },
      "source": [
        "def add(a, b): \n",
        "    return a + b"
      ],
      "execution_count": 5,
      "outputs": []
    },
    {
      "cell_type": "markdown",
      "metadata": {
        "id": "iTllHbkl_TyZ"
      },
      "source": [
        "# add() 함수를 사용"
      ]
    },
    {
      "cell_type": "code",
      "metadata": {
        "colab": {
          "base_uri": "https://localhost:8080/"
        },
        "id": "9Z7ke7Co_WTL",
        "outputId": "0ccbbbea-02d9-41a3-b7c9-e90f332f9ea0"
      },
      "source": [
        "a=3\n",
        "b=4\n",
        "c=add(a,b)\n",
        "print(c)\n",
        "\n",
        "x=[1,2,3]\n",
        "y=[4,5,6]\n",
        "z=x+y\n",
        "print(z)"
      ],
      "execution_count": 6,
      "outputs": [
        {
          "output_type": "stream",
          "text": [
            "7\n",
            "[1, 2, 3, 4, 5, 6]\n"
          ],
          "name": "stdout"
        }
      ]
    },
    {
      "cell_type": "markdown",
      "metadata": {
        "id": "iIC_NJHC_ZYY"
      },
      "source": [
        "## 매개변수와 인수의 차이를 이해하자!"
      ]
    },
    {
      "cell_type": "markdown",
      "metadata": {
        "id": "v2cC4RFP_cGz"
      },
      "source": [
        "### 매개변수는 함수에 입력으로 전달된 값을 받는 변수\n",
        "### 인수는 함수를 호출할 때 전달하는 입력값을 의미"
      ]
    },
    {
      "cell_type": "markdown",
      "metadata": {
        "id": "pGkA2tpF_hT2"
      },
      "source": [
        "# add() 함수에서의 매개변수와 인수\n",
        "\"\"\"\n",
        "### def add(a, b):  # a, b는 매개변수\n",
        "###    return a+b\n",
        "### print(add(3, 4))  # 3, 4는 인수\n",
        "\"\"\""
      ]
    },
    {
      "cell_type": "markdown",
      "metadata": {
        "id": "wT-93fjr_om6"
      },
      "source": [
        "## 입력값과 결괏값에 따른 함수의 형태"
      ]
    },
    {
      "cell_type": "markdown",
      "metadata": {
        "id": "4okxxEW__s42"
      },
      "source": [
        "## 입력값 ---> 함수 ----> 결괏값\n",
        "## 일반적인 함수\n",
        "## 입력값과 결괏값이 있는 함수\n",
        "\"\"\"\n",
        "### def 함수이름(매개변수):\n",
        "###    <수행할 문장>\n",
        "###    ...\n",
        "###    return 결과값\n",
        "\"\"\""
      ]
    },
    {
      "cell_type": "code",
      "metadata": {
        "id": "vrrC6Cv2_3Lr"
      },
      "source": [
        "def add2(a, b): \n",
        "    result = a + b \n",
        "    return result"
      ],
      "execution_count": 7,
      "outputs": []
    },
    {
      "cell_type": "markdown",
      "metadata": {
        "id": "tCymr7XG_8uL"
      },
      "source": [
        "# 입력값과 결괏값이 있는 함수의 사용법\n",
        "# 결괏값을 받을 변수 = 함수이름(입력인수1, 입력인수2, ...)"
      ]
    },
    {
      "cell_type": "code",
      "metadata": {
        "colab": {
          "base_uri": "https://localhost:8080/"
        },
        "id": "pzlj2LRG__Pb",
        "outputId": "7b4b97b0-26a6-4b66-e4f8-9e8be9f2cedb"
      },
      "source": [
        "a = add2(3, 4)\n",
        "print(a)"
      ],
      "execution_count": 8,
      "outputs": [
        {
          "output_type": "stream",
          "text": [
            "7\n"
          ],
          "name": "stdout"
        }
      ]
    },
    {
      "cell_type": "markdown",
      "metadata": {
        "id": "M3p0kCxPAB5m"
      },
      "source": [
        "# 입력값이 없는 함수"
      ]
    },
    {
      "cell_type": "code",
      "metadata": {
        "id": "w011iTEoAEgb"
      },
      "source": [
        "def say(): \n",
        "    return 'Hi'"
      ],
      "execution_count": 9,
      "outputs": []
    },
    {
      "cell_type": "markdown",
      "metadata": {
        "id": "Dl9QHFW6AG8C"
      },
      "source": [
        "# 입력값이 없는 함수의 사용법\n",
        "# 결괏값을 받을 변수 = 함수이름()"
      ]
    },
    {
      "cell_type": "code",
      "metadata": {
        "colab": {
          "base_uri": "https://localhost:8080/"
        },
        "id": "R59N_il2AIyU",
        "outputId": "0e7ac75b-db2d-4953-c3eb-40f93c15424b"
      },
      "source": [
        "a = say()\n",
        "print(a)"
      ],
      "execution_count": 10,
      "outputs": [
        {
          "output_type": "stream",
          "text": [
            "Hi\n"
          ],
          "name": "stdout"
        }
      ]
    },
    {
      "cell_type": "markdown",
      "metadata": {
        "id": "guQfypkHALBa"
      },
      "source": [
        "# 결괏값이 없는 함수"
      ]
    },
    {
      "cell_type": "code",
      "metadata": {
        "id": "CpwO_kmkAND2"
      },
      "source": [
        "def add3(a, b): \n",
        "    print(\"%d, %d의 합은 %d입니다.\" % (a, b, a+b))"
      ],
      "execution_count": 11,
      "outputs": []
    },
    {
      "cell_type": "markdown",
      "metadata": {
        "id": "aCs6JQjzAPaM"
      },
      "source": [
        "# 결괏값이 없는 함수의 사용법\n",
        "# 함수이름(입력인수1, 입력인수2, ...)"
      ]
    },
    {
      "cell_type": "code",
      "metadata": {
        "colab": {
          "base_uri": "https://localhost:8080/"
        },
        "id": "1HoE4tojARYS",
        "outputId": "b9b5a74c-85ca-4207-aad3-e5b88299f0b8"
      },
      "source": [
        "add3(3, 4)"
      ],
      "execution_count": 12,
      "outputs": [
        {
          "output_type": "stream",
          "text": [
            "3, 4의 합은 7입니다.\n"
          ],
          "name": "stdout"
        }
      ]
    },
    {
      "cell_type": "markdown",
      "metadata": {
        "id": "XroFAoARAS82"
      },
      "source": [
        "# 다음 결과는 무엇인가?"
      ]
    },
    {
      "cell_type": "code",
      "metadata": {
        "colab": {
          "base_uri": "https://localhost:8080/"
        },
        "id": "nw8QV2DfAVC6",
        "outputId": "6906e5e0-2978-40cb-bbdc-3f2f49aa17b4"
      },
      "source": [
        "a = add3(3, 4)\n",
        "print(a)"
      ],
      "execution_count": 13,
      "outputs": [
        {
          "output_type": "stream",
          "text": [
            "3, 4의 합은 7입니다.\n",
            "None\n"
          ],
          "name": "stdout"
        }
      ]
    },
    {
      "cell_type": "markdown",
      "metadata": {
        "id": "YsOaBNNWAXvs"
      },
      "source": [
        "# 입력값도 결괏값도 없는 함수"
      ]
    },
    {
      "cell_type": "code",
      "metadata": {
        "id": "Ie-AsVUPAZfU"
      },
      "source": [
        "def say2(): \n",
        "    print('Hi')"
      ],
      "execution_count": 14,
      "outputs": []
    },
    {
      "cell_type": "markdown",
      "metadata": {
        "id": "yWAFt0CsAbai"
      },
      "source": [
        "# 입력값도 결괏값도 없는 함수의 사용법\n",
        "# 함수이름()"
      ]
    },
    {
      "cell_type": "code",
      "metadata": {
        "colab": {
          "base_uri": "https://localhost:8080/",
          "height": 36
        },
        "id": "1H0uWnwxAdjm",
        "outputId": "07896d5b-457b-4261-862e-df31b0a3ea01"
      },
      "source": [
        "say()"
      ],
      "execution_count": 15,
      "outputs": [
        {
          "output_type": "execute_result",
          "data": {
            "application/vnd.google.colaboratory.intrinsic+json": {
              "type": "string"
            },
            "text/plain": [
              "'Hi'"
            ]
          },
          "metadata": {
            "tags": []
          },
          "execution_count": 15
        }
      ]
    },
    {
      "cell_type": "markdown",
      "metadata": {
        "id": "akZj3xZQAgR4"
      },
      "source": [
        "## 매개변수의 값을 지정하여 호출하기"
      ]
    },
    {
      "cell_type": "code",
      "metadata": {
        "id": "rVV7WMEcAjB4"
      },
      "source": [
        "def add4(a, b):\n",
        "    return a+b"
      ],
      "execution_count": 16,
      "outputs": []
    },
    {
      "cell_type": "code",
      "metadata": {
        "colab": {
          "base_uri": "https://localhost:8080/"
        },
        "id": "nXM-uyjzAlYi",
        "outputId": "167d84dd-ab7d-4924-e123-27de16b4cef0"
      },
      "source": [
        "result = add4(a=3, b=7)  # a에 3, b에 7을 전달\n",
        "print(result)"
      ],
      "execution_count": 17,
      "outputs": [
        {
          "output_type": "stream",
          "text": [
            "10\n"
          ],
          "name": "stdout"
        }
      ]
    },
    {
      "cell_type": "markdown",
      "metadata": {
        "id": "YG2MSB7sAos5"
      },
      "source": [
        "## 입력값이 몇 개가 될지 모를 때는 어떻게 해야 할까?"
      ]
    },
    {
      "cell_type": "markdown",
      "metadata": {
        "id": "-wLMHb-MAtgu"
      },
      "source": [
        "\"\"\"\n",
        "### def 함수이름(*매개변수): \n",
        "###    <수행할 문장>\n",
        "###   ...\n",
        "\"\"\""
      ]
    },
    {
      "cell_type": "code",
      "metadata": {
        "colab": {
          "base_uri": "https://localhost:8080/"
        },
        "id": "0KPgVGetA1rV",
        "outputId": "69b93e19-b012-4614-e1d9-d107ed41b3eb"
      },
      "source": [
        "def add_many(*args):\n",
        "    result = 0 \n",
        "    for i in args: \n",
        "        result = result + i \n",
        "    return result \n",
        "\n",
        "\n",
        "add_many(1, 2, 3)\n",
        "add_many(1, 2, 3, 4, 5, 6, 7, 8, 9)\n",
        "\n",
        "result = add_many(1,2,3,4,5,6,7,8,9,10)\n",
        "print(result)"
      ],
      "execution_count": 18,
      "outputs": [
        {
          "output_type": "stream",
          "text": [
            "55\n"
          ],
          "name": "stdout"
        }
      ]
    },
    {
      "cell_type": "markdown",
      "metadata": {
        "id": "IwnOFjj3A4h6"
      },
      "source": [
        "여러 개의 입력을 처리하는 함수(*args)"
      ]
    },
    {
      "cell_type": "code",
      "metadata": {
        "colab": {
          "base_uri": "https://localhost:8080/"
        },
        "id": "_AVaZc6yA7k1",
        "outputId": "43bf9570-de1f-4643-be38-70194d229140"
      },
      "source": [
        "def add_mul(choice, *args):\n",
        "    if choice == \"add\":\n",
        "        result = 0 \n",
        "        for i in args:\n",
        "            result = result + i \n",
        "    elif choice == \"mul\":\n",
        "        result = 1 \n",
        "        for i in args: \n",
        "            result = result * i \n",
        "    return result\n",
        "    # add\n",
        "result = add_mul('add', 1,2,3,4,5)\n",
        "print(result)\n",
        "# multiply\n",
        "result = add_mul('mul', 1,2,3,4,5)\n",
        "print(result)\n",
        "\n"
      ],
      "execution_count": 20,
      "outputs": [
        {
          "output_type": "stream",
          "text": [
            "15\n",
            "120\n"
          ],
          "name": "stdout"
        }
      ]
    },
    {
      "cell_type": "markdown",
      "metadata": {
        "id": "o3UZuPhrBCyG"
      },
      "source": [
        "## 키워드 파라미터 kwargs"
      ]
    },
    {
      "cell_type": "markdown",
      "metadata": {
        "id": "uA2yyiQ1BFNz"
      },
      "source": [
        "def print_kwargs(**kwargs):\n",
        "    print(kwargs)"
      ]
    },
    {
      "cell_type": "markdown",
      "metadata": {
        "id": "QVJNxr4cBHCW"
      },
      "source": [
        "# print_kwargs 함수는 매개변수 kwargs를 출력하는 함수"
      ]
    },
    {
      "cell_type": "code",
      "metadata": {
        "colab": {
          "base_uri": "https://localhost:8080/",
          "height": 213
        },
        "id": "P_g3qfrABI5-",
        "outputId": "a84535f6-ba24-4587-c21c-e67cc8085041"
      },
      "source": [
        "print_kwargs(a=1)\n",
        "\n",
        "print_kwargs(name='foo', age=3)\n"
      ],
      "execution_count": 21,
      "outputs": [
        {
          "output_type": "error",
          "ename": "NameError",
          "evalue": "ignored",
          "traceback": [
            "\u001b[0;31m---------------------------------------------------------------------------\u001b[0m",
            "\u001b[0;31mNameError\u001b[0m                                 Traceback (most recent call last)",
            "\u001b[0;32m<ipython-input-21-3f133f3e1b8a>\u001b[0m in \u001b[0;36m<module>\u001b[0;34m()\u001b[0m\n\u001b[0;32m----> 1\u001b[0;31m \u001b[0mprint_kwargs\u001b[0m\u001b[0;34m(\u001b[0m\u001b[0ma\u001b[0m\u001b[0;34m=\u001b[0m\u001b[0;36m1\u001b[0m\u001b[0;34m)\u001b[0m\u001b[0;34m\u001b[0m\u001b[0;34m\u001b[0m\u001b[0m\n\u001b[0m\u001b[1;32m      2\u001b[0m \u001b[0;34m\u001b[0m\u001b[0m\n\u001b[1;32m      3\u001b[0m \u001b[0mprint_kwargs\u001b[0m\u001b[0;34m(\u001b[0m\u001b[0mname\u001b[0m\u001b[0;34m=\u001b[0m\u001b[0;34m'foo'\u001b[0m\u001b[0;34m,\u001b[0m \u001b[0mage\u001b[0m\u001b[0;34m=\u001b[0m\u001b[0;36m3\u001b[0m\u001b[0;34m)\u001b[0m\u001b[0;34m\u001b[0m\u001b[0;34m\u001b[0m\u001b[0m\n",
            "\u001b[0;31mNameError\u001b[0m: name 'print_kwargs' is not defined"
          ]
        }
      ]
    },
    {
      "cell_type": "markdown",
      "metadata": {
        "id": "ARwjSr4sBRBp"
      },
      "source": [
        "# **kwargs처럼 매개변수 이름 앞에 **을 붙이면 매개변수 \n",
        "# kwargs는 딕셔너리가 되고 모든 key=value 형태의 결괏값이 \n",
        "# 그 딕셔너리에 저장된다."
      ]
    },
    {
      "cell_type": "markdown",
      "metadata": {
        "id": "ZfLHYgUkBUti"
      },
      "source": [
        "## 함수의 결괏값은 언제나 하나"
      ]
    },
    {
      "cell_type": "code",
      "metadata": {
        "colab": {
          "base_uri": "https://localhost:8080/"
        },
        "id": "A-z8Mc61BYHX",
        "outputId": "167788e5-f5fb-4f17-e504-71cc379f3938"
      },
      "source": [
        "def add_and_mul(a,b): \n",
        "    return a+b, a*b\n",
        "\n",
        "\n",
        "# add_and_mul() 사용 1.\n",
        "result = add_and_mul(3,4)\n",
        "\n",
        "print(result)\n",
        "\n",
        "# add_and_mul() 사용 2.\n",
        "result1, result2 = add_and_mul(3, 4)\n",
        "\n",
        "result1, result2\n",
        "\n"
      ],
      "execution_count": 23,
      "outputs": [
        {
          "output_type": "stream",
          "text": [
            "(7, 12)\n"
          ],
          "name": "stdout"
        },
        {
          "output_type": "execute_result",
          "data": {
            "text/plain": [
              "(7, 12)"
            ]
          },
          "metadata": {
            "tags": []
          },
          "execution_count": 23
        }
      ]
    },
    {
      "cell_type": "markdown",
      "metadata": {
        "id": "JsCRII40BeSV"
      },
      "source": [
        "## 잘못된 함수"
      ]
    },
    {
      "cell_type": "code",
      "metadata": {
        "colab": {
          "base_uri": "https://localhost:8080/"
        },
        "id": "LvwBWaeYBhL0",
        "outputId": "f6ceb13e-bd6a-40f0-be15-19d446917b13"
      },
      "source": [
        "def add_and_mul2(a,b): \n",
        "    return a+b \n",
        "    return a*b  # Not working!!\n",
        "\n",
        "\n",
        "result = add_and_mul2(2, 3)\n",
        "print(result)"
      ],
      "execution_count": 24,
      "outputs": [
        {
          "output_type": "stream",
          "text": [
            "5\n"
          ],
          "name": "stdout"
        }
      ]
    },
    {
      "cell_type": "markdown",
      "metadata": {
        "id": "fnlD25kaBju3"
      },
      "source": [
        "## return 의 용도: 함수 실행 종료"
      ]
    },
    {
      "cell_type": "code",
      "metadata": {
        "colab": {
          "base_uri": "https://localhost:8080/"
        },
        "id": "wbr1xGIWBmsL",
        "outputId": "89c1d4a6-ef82-4f93-fbe5-3138c45279cf"
      },
      "source": [
        "def say_nick(nick): \n",
        "    if nick == \"바보\": \n",
        "        return \n",
        "    print(\"나의 별명은 %s 입니다.\" % nick)\n",
        "\n",
        "\n",
        "say_nick(\"홍길동\")\n",
        "say_nick(\"바보\")"
      ],
      "execution_count": 25,
      "outputs": [
        {
          "output_type": "stream",
          "text": [
            "나의 별명은 홍길동 입니다.\n"
          ],
          "name": "stdout"
        }
      ]
    },
    {
      "cell_type": "markdown",
      "metadata": {
        "id": "7AovPY3VBqM3"
      },
      "source": [
        "## 매개변수에 초깃값 미리 설정하기"
      ]
    },
    {
      "cell_type": "code",
      "metadata": {
        "colab": {
          "base_uri": "https://localhost:8080/"
        },
        "id": "p6s34MErBvub",
        "outputId": "f357e500-03c9-42af-a686-0c20adf164b2"
      },
      "source": [
        "def say_myself(name, old, man=True): \n",
        "    print(\"나의 이름은 %s 입니다.\" % name) \n",
        "    print(\"나이는 %d살입니다.\" % old) \n",
        "    if man: \n",
        "        print(\"남자입니다.\")\n",
        "    else: \n",
        "        print(\"여자입니다.\")\n",
        "    \n",
        "\n",
        "say_myself(\"박응용\", 27)\n",
        "say_myself(\"박응용\", 27, True)\n",
        "\n",
        "say_myself(\"박응용\", 27, False)"
      ],
      "execution_count": 26,
      "outputs": [
        {
          "output_type": "stream",
          "text": [
            "나의 이름은 박응용 입니다.\n",
            "나이는 27살입니다.\n",
            "남자입니다.\n",
            "나의 이름은 박응용 입니다.\n",
            "나이는 27살입니다.\n",
            "남자입니다.\n",
            "나의 이름은 박응용 입니다.\n",
            "나이는 27살입니다.\n",
            "여자입니다.\n"
          ],
          "name": "stdout"
        }
      ]
    },
    {
      "cell_type": "code",
      "metadata": {
        "colab": {
          "base_uri": "https://localhost:8080/",
          "height": 55
        },
        "id": "YL3XY19WByUa",
        "outputId": "240cab6c-4b4f-42f7-b246-771f58c8c005"
      },
      "source": [
        "\"\"\"\n",
        "def say_myself2(name, man=True, old): \n",
        "    print(\"나의 이름은 %s 입니다.\" % name) \n",
        "    print(\"나이는 %d살입니다.\" % old) \n",
        "    if man: \n",
        "        print(\"남자입니다.\") \n",
        "    else:\n",
        "        print(\"여자입니다.\")\n",
        "    \n",
        "\"\"\""
      ],
      "execution_count": 27,
      "outputs": [
        {
          "output_type": "execute_result",
          "data": {
            "application/vnd.google.colaboratory.intrinsic+json": {
              "type": "string"
            },
            "text/plain": [
              "'\\ndef say_myself2(name, man=True, old): \\n    print(\"나의 이름은 %s 입니다.\" % name) \\n    print(\"나이는 %d살입니다.\" % old) \\n    if man: \\n        print(\"남자입니다.\") \\n    else:\\n        print(\"여자입니다.\")\\n    \\n'"
            ]
          },
          "metadata": {
            "tags": []
          },
          "execution_count": 27
        }
      ]
    },
    {
      "cell_type": "markdown",
      "metadata": {
        "id": "b1m39HFTB0rY"
      },
      "source": [
        "# 초깃값을 설정해 놓은 매개변수 뒤에 \n",
        "# 초깃값을 설정해 놓지 않은 매개변수는 사용할 수 없다\n",
        "# 초기화시키고 싶은 매개변수를 항상 뒤쪽에 놓는다.\n",
        "# 키워드형식의 매개변수는 항상 뒤에 지정."
      ]
    },
    {
      "cell_type": "markdown",
      "metadata": {
        "id": "WViszzRGB5Qs"
      },
      "source": [
        "## 함수 안에서 선언한 변수의 효력 범위"
      ]
    },
    {
      "cell_type": "markdown",
      "metadata": {
        "id": "7r3tPYC-B7n9"
      },
      "source": [
        "# 전역변수\n",
        "# 지역 변수, 자동 변수"
      ]
    },
    {
      "cell_type": "markdown",
      "metadata": {
        "id": "jpLK5E35B9ZO"
      },
      "source": [
        "# vartest.py"
      ]
    },
    {
      "cell_type": "code",
      "metadata": {
        "colab": {
          "base_uri": "https://localhost:8080/"
        },
        "id": "b66CJBJNCA73",
        "outputId": "e08315d4-2abb-4b7e-98c8-0b06d0fa3321"
      },
      "source": [
        "a = 1\n",
        "def vartest(a):\n",
        "    a = a +1\n",
        "\n",
        "vartest(a)\n",
        "print(a)\n"
      ],
      "execution_count": 28,
      "outputs": [
        {
          "output_type": "stream",
          "text": [
            "1\n"
          ],
          "name": "stdout"
        }
      ]
    },
    {
      "cell_type": "code",
      "metadata": {
        "colab": {
          "base_uri": "https://localhost:8080/"
        },
        "id": "hDD03mLlCESs",
        "outputId": "946b1145-9f06-4703-c2c1-367b0e7ef7a1"
      },
      "source": [
        "# vartest_error.py\n",
        "def vartest2(z):\n",
        "    z = z + 1\n",
        "\n",
        "vartest2(3)\n",
        "print(z)  # Error"
      ],
      "execution_count": 29,
      "outputs": [
        {
          "output_type": "stream",
          "text": [
            "[1, 2, 3, 4, 5, 6]\n"
          ],
          "name": "stdout"
        }
      ]
    },
    {
      "cell_type": "markdown",
      "metadata": {
        "id": "FYaqA75mCHdw"
      },
      "source": [
        "## 함수 안에서 함수 밖의 변수를 변경하는 방법"
      ]
    },
    {
      "cell_type": "markdown",
      "metadata": {
        "id": "1jRiLBVaCJY9"
      },
      "source": [
        "# return 사용\n",
        "# global 변수 사용"
      ]
    },
    {
      "cell_type": "code",
      "metadata": {
        "colab": {
          "base_uri": "https://localhost:8080/"
        },
        "id": "wS3BGSr7CXGI",
        "outputId": "fb78ea2c-a9cd-44d5-ab8e-58bfc1b76910"
      },
      "source": [
        "# 1. return 사용하기\n",
        "a = 1 \n",
        "def vartest3(a): \n",
        "    a = a +1 \n",
        "    return a\n",
        "\n",
        "a = vartest3(a) \n",
        "print(a)\n"
      ],
      "execution_count": 30,
      "outputs": [
        {
          "output_type": "stream",
          "text": [
            "2\n"
          ],
          "name": "stdout"
        }
      ]
    },
    {
      "cell_type": "code",
      "metadata": {
        "colab": {
          "base_uri": "https://localhost:8080/"
        },
        "id": "UDyNEW2XCadl",
        "outputId": "816a03a2-0ffe-4129-a44b-88dc1d8abc1c"
      },
      "source": [
        "# 2. global 명령어 사용하기\n",
        "a = 1 \n",
        "def vartest4(): \n",
        "    global a \n",
        "    a = a+1\n",
        "\n",
        "vartest4() \n",
        "print(a)\n"
      ],
      "execution_count": 31,
      "outputs": [
        {
          "output_type": "stream",
          "text": [
            "2\n"
          ],
          "name": "stdout"
        }
      ]
    },
    {
      "cell_type": "markdown",
      "metadata": {
        "id": "kDCLE0UOCcqb"
      },
      "source": [
        "#--------   lambda  -------------------"
      ]
    },
    {
      "cell_type": "markdown",
      "metadata": {
        "id": "7OocuTaoCfVh"
      },
      "source": [
        "# lambda는 함수를 생성할 때 사용하는 예약어로 def와 동일한 역할을 한다. \n",
        "# 보통 함수를 한줄로 간결하게 만들 때 사용한다.\n",
        "#\n",
        "# lambda 사용법\n",
        "#\n",
        "# lambda 매개변수1, 매개변수2, ... : 매개변수를 이용한 표현식"
      ]
    },
    {
      "cell_type": "markdown",
      "metadata": {
        "id": "HJAzI1xCChw4"
      },
      "source": [
        "## lambda를 이용한 add 함수"
      ]
    },
    {
      "cell_type": "code",
      "metadata": {
        "colab": {
          "base_uri": "https://localhost:8080/"
        },
        "id": "Ccwu_99CClOL",
        "outputId": "d3942ef1-df76-4fde-8d3b-e3328ebd39f8"
      },
      "source": [
        "add = lambda a, b: a+b\n",
        "\n",
        "result = add(3, 4)\n",
        "print(result)\n"
      ],
      "execution_count": 32,
      "outputs": [
        {
          "output_type": "stream",
          "text": [
            "7\n"
          ],
          "name": "stdout"
        }
      ]
    },
    {
      "cell_type": "markdown",
      "metadata": {
        "id": "fXpfIGOrCnEM"
      },
      "source": [
        "# lambda 예약어로 만든 함수는 return 명령어가 없어도 결괏값을 돌려준다."
      ]
    },
    {
      "cell_type": "markdown",
      "metadata": {
        "id": "F17scQ9uCpfm"
      },
      "source": [
        "# lambda 함수의 응용"
      ]
    },
    {
      "cell_type": "code",
      "metadata": {
        "colab": {
          "base_uri": "https://localhost:8080/"
        },
        "id": "_5I6EN-zCra6",
        "outputId": "53201eda-69a2-4d4b-e7b4-5f19a5e40a0a"
      },
      "source": [
        "models = ['K-3000', 'N-1000', 'T-2000', 'X-5000']\n",
        "sorted(models, key=lambda x: x[-4:])"
      ],
      "execution_count": 33,
      "outputs": [
        {
          "output_type": "execute_result",
          "data": {
            "text/plain": [
              "['N-1000', 'T-2000', 'K-3000', 'X-5000']"
            ]
          },
          "metadata": {
            "tags": []
          },
          "execution_count": 33
        }
      ]
    },
    {
      "cell_type": "code",
      "metadata": {
        "id": "oXjHDIrA-YPJ"
      },
      "source": [
        ""
      ],
      "execution_count": null,
      "outputs": []
    },
    {
      "cell_type": "code",
      "metadata": {
        "id": "Nn87uHUqtW64",
        "colab": {
          "base_uri": "https://localhost:8080/",
          "height": 35
        },
        "outputId": "e5188d96-dd3e-45d0-d9f5-1c694b962ebf"
      },
      "source": [
        "# vartest.py\n",
        "a = 1\n",
        "def vartest(a):\n",
        "    a = a +1\n",
        "    # print(a)\n",
        "\n",
        "vartest(a)\n",
        "print(a)"
      ],
      "execution_count": null,
      "outputs": [
        {
          "output_type": "stream",
          "text": [
            "1\n"
          ],
          "name": "stdout"
        }
      ]
    },
    {
      "cell_type": "markdown",
      "metadata": {
        "id": "q87qtdsOCwtv"
      },
      "source": [
        "# function_test.py\n",
        "\n",
        "# scope_test()"
      ]
    },
    {
      "cell_type": "markdown",
      "metadata": {
        "id": "If5aoyAsCzBt"
      },
      "source": [
        "x = 5\n",
        "\n",
        "\n",
        "def scope_test():\n",
        "    print(x)\n",
        "    print(x+5)\n",
        "    # x += 5"
      ]
    },
    {
      "cell_type": "markdown",
      "metadata": {
        "id": "WTdxgb_eC3Iu"
      },
      "source": [
        "# scope_test()\n",
        "\n",
        "# *args : multiple parameters"
      ]
    },
    {
      "cell_type": "code",
      "metadata": {
        "id": "0CKqzE7UC41y"
      },
      "source": [
        "def args_test(*args):\n",
        "    print(type(args))\n",
        "    print(args)\n",
        "    for arg in args:\n",
        "        print(arg)"
      ],
      "execution_count": 34,
      "outputs": []
    },
    {
      "cell_type": "markdown",
      "metadata": {
        "id": "uTgCcaU-C7Bj"
      },
      "source": [
        "# args_test(1, 2, 3, 4)\n",
        "# args_test(list(range(4)))\n",
        "\n",
        "# **kawargs : keyword arguments"
      ]
    },
    {
      "cell_type": "code",
      "metadata": {
        "id": "T9X0gtFPC9GH"
      },
      "source": [
        "def kwarg_test(**kwargs):\n",
        "    print(type(kwargs))\n",
        "    print(kwargs)\n",
        "    for item in kwargs.items():\n",
        "        print(item)"
      ],
      "execution_count": 35,
      "outputs": []
    },
    {
      "cell_type": "code",
      "metadata": {
        "colab": {
          "base_uri": "https://localhost:8080/"
        },
        "id": "qcefvfOXC-rm",
        "outputId": "01702086-7ba2-49d6-cc38-f8a2d64702bd"
      },
      "source": [
        "# kwarg_test(a=1, b='hi')\n",
        "kwarg_test(x=[1,2,3], y='Hello')"
      ],
      "execution_count": 36,
      "outputs": [
        {
          "output_type": "stream",
          "text": [
            "<class 'dict'>\n",
            "{'x': [1, 2, 3], 'y': 'Hello'}\n",
            "('x', [1, 2, 3])\n",
            "('y', 'Hello')\n"
          ],
          "name": "stdout"
        }
      ]
    },
    {
      "cell_type": "markdown",
      "metadata": {
        "id": "aiBB3U0ge03F"
      },
      "source": [
        "## 도전 코딩\n",
        "- A 학급에 총 10명의 학생이 있다. 이 학생들의 중간고사 점수는 다음과 같다.\n",
        "\n",
        "- A = [70, 60, 55, 75, 95, 90, 80, 80, 85, 100]\n",
        "\n",
        "> 함수를 사용하여 A 학급의 평균 점수를 구해 보자.\n",
        ">> 함수명: average_class(A)\n"
      ]
    },
    {
      "cell_type": "code",
      "metadata": {
        "id": "fGBlcLGN-3pd",
        "colab": {
          "base_uri": "https://localhost:8080/"
        },
        "outputId": "2b8bbe07-fe43-48ec-b491-3d44c8bebc4b"
      },
      "source": [
        "A = [70, 60, 55, 75, 95, 90, 80, 80, 85, 100]\n",
        "def avergae_class(A):\n",
        "    return (sum(A)/len(A))\n",
        "print(\"평균 점수는 {0}점 입니다.\".format(avergae_class(A)))"
      ],
      "execution_count": 39,
      "outputs": [
        {
          "output_type": "stream",
          "text": [
            "평균 점수는 79.0점 입니다.\n"
          ],
          "name": "stdout"
        }
      ]
    },
    {
      "cell_type": "code",
      "metadata": {
        "id": "fARnFJtiDb1n"
      },
      "source": [
        ""
      ],
      "execution_count": null,
      "outputs": []
    }
  ]
}
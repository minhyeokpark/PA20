{
  "nbformat": 4,
  "nbformat_minor": 0,
  "metadata": {
    "colab": {
      "name": "ch3-exercises-PA20.ipynb",
      "provenance": [],
      "collapsed_sections": []
    },
    "kernelspec": {
      "name": "python3",
      "display_name": "Python 3"
    }
  },
  "cells": [
    {
      "cell_type": "markdown",
      "metadata": {
        "id": "ovY5jkD5dpxE"
      },
      "source": [
        "ch3-exercises-PA20.ipynb"
      ]
    },
    {
      "cell_type": "markdown",
      "metadata": {
        "id": "SZw6UnxQWYBe"
      },
      "source": [
        "## Q1.\n",
        "> 다음 코드의 결괏값은 무엇일까?\n",
        "\n",
        "```\n",
        "a = \"Life is too short, you need python\"\n",
        "if \"wife\" in a: print(\"wife\")\n",
        "elif \"python\" in a and \"you\" not in a: print(\"python\")\n",
        "elif \"shirt\" not in a: print(\"shirt\")\n",
        "elif \"need\" in a: print(\"need\")\n",
        "else: print(\"none\")\n",
        "\n",
        "```"
      ]
    },
    {
      "cell_type": "code",
      "metadata": {
        "id": "rUNNaqJPdg7B",
        "colab": {
          "base_uri": "https://localhost:8080/"
        },
        "outputId": "ef26c678-0403-4a29-8cd7-e10d2ea87a8a"
      },
      "source": [
        "# [Q1] Code  \n",
        "a = \"Life is too short, you need python\"  \n",
        "if \"wife\" in a: print(\"wife\")        #a에 wife 가 포함되면 wife를 출력 (틀렸음)\n",
        "elif \"python\" in a and \"you\" not in a: print(\"python\")  # a 에 python이 포함되어있고  you 가 포함되지않으면 python을 출력하라 (틀렸음)\n",
        "elif \"shirt\" not in a: print(\"shirt\")  # shirt 가 a 에 포함되어있지 않을때 shirt를 출력하여라 (맞음 shirt를 출력함)\n",
        "elif \"need\" in a: print(\"need\")  # a에 need가 포함된다면 need를 출력하여라 ( 틀렸음)\n",
        "else: print(\"none\") # 모든게 해당사항에 없을떄는 none을 출력하여라\n",
        "## True 인 shirt만 출력이 된다\n"
      ],
      "execution_count": null,
      "outputs": [
        {
          "output_type": "stream",
          "text": [
            "shirt\n"
          ],
          "name": "stdout"
        }
      ]
    },
    {
      "cell_type": "markdown",
      "metadata": {
        "id": "re2-XrUYXF1m"
      },
      "source": [
        "## Q2.\n",
        "> while문을 사용해 1부터 1000까지의 자연수 중 3의 배수의 합을 구해 보자.\n"
      ]
    },
    {
      "cell_type": "code",
      "metadata": {
        "id": "5MBLUZ5WXF1q",
        "colab": {
          "base_uri": "https://localhost:8080/"
        },
        "outputId": "ca7ac46a-1c4f-4ead-90a9-85f7824611b5"
      },
      "source": [
        "x=0\n",
        "y=0\n",
        "while x <1000: # x 의 값은 1000보다 작다\n",
        "    x = x+1  # a값에 1씩 더함\n",
        "    if x % 3 == 0: \n",
        "      y=y+x \n",
        "    if x==1000:\n",
        "      print(\"3의 배수의 합= \",y)"
      ],
      "execution_count": null,
      "outputs": [
        {
          "output_type": "stream",
          "text": [
            "3의 배수의 합=  166833\n"
          ],
          "name": "stdout"
        }
      ]
    },
    {
      "cell_type": "markdown",
      "metadata": {
        "id": "UZy8lu_BXGnT"
      },
      "source": [
        "## Q3.\n",
        "> while문을 사용하여 다음과 같이 별(*)을 표시하는 프로그램을 작성해 보자.\n",
        "\n",
        "```\n",
        "*\n",
        "**\n",
        "***\n",
        "****\n",
        "*****\n",
        "\n",
        "```\n"
      ]
    },
    {
      "cell_type": "code",
      "metadata": {
        "id": "H9T_sXHzXGnW",
        "colab": {
          "base_uri": "https://localhost:8080/"
        },
        "outputId": "cf9772e5-fe67-4ebf-ff12-e08e54fd9565"
      },
      "source": [
        "# [Q3] Code\n",
        "st = 0\n",
        "while st < 5:\n",
        "  st = st +1\n",
        "  print (\"*\"* st)\n",
        "\n"
      ],
      "execution_count": null,
      "outputs": [
        {
          "output_type": "stream",
          "text": [
            "*\n",
            "**\n",
            "***\n",
            "****\n",
            "*****\n"
          ],
          "name": "stdout"
        }
      ]
    },
    {
      "cell_type": "markdown",
      "metadata": {
        "id": "fqypxxqTXHY7"
      },
      "source": [
        "## Q4.\n",
        "> for문을 사용해 1부터 100까지의 숫자를 출력해 보자.\n",
        "- 단순 for문 사용\n",
        "- 리스트 내포 사용"
      ]
    },
    {
      "cell_type": "code",
      "metadata": {
        "id": "oQ5UnmayXHY-",
        "colab": {
          "base_uri": "https://localhost:8080/"
        },
        "outputId": "0802d1c4-4a96-4a7d-bee6-659c533965c0"
      },
      "source": [
        "# [Q4] Code\n",
        "for x in range(1,101):\n",
        "  print(x)\n"
      ],
      "execution_count": null,
      "outputs": [
        {
          "output_type": "stream",
          "text": [
            "1\n",
            "2\n",
            "3\n",
            "4\n",
            "5\n",
            "6\n",
            "7\n",
            "8\n",
            "9\n",
            "10\n",
            "11\n",
            "12\n",
            "13\n",
            "14\n",
            "15\n",
            "16\n",
            "17\n",
            "18\n",
            "19\n",
            "20\n",
            "21\n",
            "22\n",
            "23\n",
            "24\n",
            "25\n",
            "26\n",
            "27\n",
            "28\n",
            "29\n",
            "30\n",
            "31\n",
            "32\n",
            "33\n",
            "34\n",
            "35\n",
            "36\n",
            "37\n",
            "38\n",
            "39\n",
            "40\n",
            "41\n",
            "42\n",
            "43\n",
            "44\n",
            "45\n",
            "46\n",
            "47\n",
            "48\n",
            "49\n",
            "50\n",
            "51\n",
            "52\n",
            "53\n",
            "54\n",
            "55\n",
            "56\n",
            "57\n",
            "58\n",
            "59\n",
            "60\n",
            "61\n",
            "62\n",
            "63\n",
            "64\n",
            "65\n",
            "66\n",
            "67\n",
            "68\n",
            "69\n",
            "70\n",
            "71\n",
            "72\n",
            "73\n",
            "74\n",
            "75\n",
            "76\n",
            "77\n",
            "78\n",
            "79\n",
            "80\n",
            "81\n",
            "82\n",
            "83\n",
            "84\n",
            "85\n",
            "86\n",
            "87\n",
            "88\n",
            "89\n",
            "90\n",
            "91\n",
            "92\n",
            "93\n",
            "94\n",
            "95\n",
            "96\n",
            "97\n",
            "98\n",
            "99\n",
            "100\n"
          ],
          "name": "stdout"
        }
      ]
    },
    {
      "cell_type": "markdown",
      "metadata": {
        "id": "NKsvciXZXIL-"
      },
      "source": [
        "## Q5.\n",
        "> A 학급에 총 10명의 학생이 있다. 이 학생들의 중간고사 점수는 다음과 같다.\n",
        "\n",
        "- [70, 60, 55, 75, 95, 90, 80, 80, 85, 100]\n",
        "\n",
        "- for문을 사용하여 A 학급의 평균 점수를 구해 보자."
      ]
    },
    {
      "cell_type": "code",
      "metadata": {
        "id": "5MZQYOVjXIL_",
        "colab": {
          "base_uri": "https://localhost:8080/"
        },
        "outputId": "1d0b5058-8c3e-450a-ef7e-e79e6195794d"
      },
      "source": [
        "# [Q5] Code\n",
        "total = 0\n",
        "A = [70, 60, 55, 75, 95, 90, 80, 80, 85, 100]\n",
        "for i in A[0:]:\n",
        "    total += int(i)\n",
        "print(\"{}A학급의 성적: {}\".format(A[:], total / 10))\n",
        " \n",
        "\n"
      ],
      "execution_count": 13,
      "outputs": [
        {
          "output_type": "stream",
          "text": [
            "[70, 60, 55, 75, 95, 90, 80, 80, 85, 100]A학급의 성적: 79.0\n"
          ],
          "name": "stdout"
        }
      ]
    },
    {
      "cell_type": "markdown",
      "metadata": {
        "id": "-3KHtOOoXJBV"
      },
      "source": [
        "## Q6.\n",
        "> 리스트 중에서 홀수에만 2를 곱하여 저장하는 다음 코드가 있다.\n",
        "```\n",
        "numbers = [1, 2, 3, 4, 5, 6, 7, 8, 9]\n",
        "result = []\n",
        "for n in numbers:\n",
        "    if n % 2 == 1:\n",
        "        result.append(n*2)\n",
        "```\n",
        "\n",
        "- 위 코드를 리스트 내포(list comprehension)를 사용하여 표현해 보자."
      ]
    },
    {
      "cell_type": "code",
      "metadata": {
        "id": "AjYR0lUaXJBa",
        "colab": {
          "base_uri": "https://localhost:8080/"
        },
        "outputId": "f0490d39-808d-4ba4-93be-8233b7d8abec"
      },
      "source": [
        "# [Q6] Code\n",
        "numbers = [1, 2, 3, 4, 5, 6, 7, 8, 9]\n",
        "result = [num*2 for num in numbers if num % 2 ==1] #나머지가 1인것에 2를 곱하여라\n",
        "result"
      ],
      "execution_count": 18,
      "outputs": [
        {
          "output_type": "execute_result",
          "data": {
            "text/plain": [
              "[2, 6, 10, 14, 18]"
            ]
          },
          "metadata": {
            "tags": []
          },
          "execution_count": 18
        }
      ]
    },
    {
      "cell_type": "markdown",
      "metadata": {
        "id": "YrS3b88QbmKo"
      },
      "source": [
        "## Q7.\n",
        "> ## [Challenge] 응용 코드 : 평균 성적을 구하시오.\n",
        "```\n",
        "subjects = ['파이썬', '영어', '수학', '물리']\n",
        "scores = [91, 67, 88, 75]\n",
        "```\n",
        "\n",
        "- 평균 성적을 세가지 이상의 방법으로 구하시오."
      ]
    },
    {
      "cell_type": "code",
      "metadata": {
        "id": "Ll_2InMWbmKq",
        "colab": {
          "base_uri": "https://localhost:8080/"
        },
        "outputId": "3f2bc235-5188-45cb-cd4b-6b1f1798409e"
      },
      "source": [
        "# [Q7] Code-1\n",
        "sub = 0\n",
        "scores = [91, 67, 88, 75]\n",
        "for i in scores[0:]:\n",
        "    sub += int(i)\n",
        "print(\"{}4개의 평균성적: {}\".format(scores[0:], sub / 4))\n",
        " \n"
      ],
      "execution_count": 30,
      "outputs": [
        {
          "output_type": "stream",
          "text": [
            "[91, 67, 88, 75]4개의 평균성적: 80.25\n"
          ],
          "name": "stdout"
        }
      ]
    },
    {
      "cell_type": "code",
      "metadata": {
        "id": "1Yl74HZQcWkw",
        "colab": {
          "base_uri": "https://localhost:8080/"
        },
        "outputId": "ba39420f-9dad-4321-8008-e2d836af7961"
      },
      "source": [
        "# [Q7] Code-2\n",
        "nums = [91, 67, 88, 75]\n",
        "print(\"평균값은\")\n",
        "print( sum(nums)/len(nums) )\n"
      ],
      "execution_count": 35,
      "outputs": [
        {
          "output_type": "stream",
          "text": [
            "평균값은\n",
            "80.25\n"
          ],
          "name": "stdout"
        }
      ]
    },
    {
      "cell_type": "code",
      "metadata": {
        "id": "POKZZo1KcW0Q",
        "colab": {
          "base_uri": "https://localhost:8080/"
        },
        "outputId": "d893638e-5bc6-41bd-da45-5748a72e15b1"
      },
      "source": [
        "# [Q7] Code-3\n",
        "def average(list):\n",
        "    num = 0\n",
        "    for i in range (len(list)):\n",
        "        num = num + list[i]\n",
        "    return (num)/len(list)\n",
        " \n",
        "\n",
        "\n",
        "list = [91, 67, 88, 75] \n",
        "print(\"평균값 : {}\".format(average(list)));\n",
        "\n",
        "\n"
      ],
      "execution_count": 33,
      "outputs": [
        {
          "output_type": "stream",
          "text": [
            "평균값 : 80.25\n"
          ],
          "name": "stdout"
        }
      ]
    },
    {
      "cell_type": "markdown",
      "metadata": {
        "id": "2ljBDShkbqZO"
      },
      "source": [
        "## 코딩 연습 결과를 github에 올리기\n",
        "> 완성된 ipython 노트북 파일을 각자의 github에 올리시오.\n",
        "\n",
        "- github 계정 만들기 (계정이 없는 학생)\n",
        "    1. github에 sign up (Google gmail 계정을 이용해서 만드시오.)\n",
        "- github에 노트 올리기\n",
        "    2. github에 각자의 id로 repo를 만드시오. (한번 만들면 계속 재사용)\n",
        "    3. **github repo의 ch3 폴더에 연습문제 풀이 결과 노트를 올리시오.**\n",
        "        - **제출노트: ch3-exercises-id.ipynb**\n"
      ]
    },
    {
      "cell_type": "code",
      "metadata": {
        "id": "OnCR-YNCc8B6"
      },
      "source": [
        ""
      ],
      "execution_count": null,
      "outputs": []
    }
  ]
}